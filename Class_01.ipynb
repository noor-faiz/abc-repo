{
  "nbformat": 4,
  "nbformat_minor": 0,
  "metadata": {
    "colab": {
      "provenance": [],
      "authorship_tag": "ABX9TyMdP4ubmgwxKGO9cALqTsQD",
      "include_colab_link": true
    },
    "kernelspec": {
      "name": "python3",
      "display_name": "Python 3"
    },
    "language_info": {
      "name": "python"
    }
  },
  "cells": [
    {
      "cell_type": "markdown",
      "metadata": {
        "id": "view-in-github",
        "colab_type": "text"
      },
      "source": [
        "<a href=\"https://colab.research.google.com/github/noor-faiz/abc-repo/blob/main/Class_01.ipynb\" target=\"_parent\"><img src=\"https://colab.research.google.com/assets/colab-badge.svg\" alt=\"Open In Colab\"/></a>"
      ]
    },
    {
      "cell_type": "markdown",
      "source": [
        "**CLASS 01**"
      ],
      "metadata": {
        "id": "aJKjSWh0kWf4"
      }
    },
    {
      "cell_type": "markdown",
      "source": [
        "**SUB CLASS 01**"
      ],
      "metadata": {
        "id": "jiNBBoIekhPY"
      }
    },
    {
      "cell_type": "code",
      "source": [
        "print(\"Hello I am Noor\")"
      ],
      "metadata": {
        "colab": {
          "base_uri": "https://localhost:8080/"
        },
        "id": "mPxG94jFkrj5",
        "outputId": "385808ae-4b7c-47cf-ab93-f0ddc691d146"
      },
      "execution_count": 1,
      "outputs": [
        {
          "output_type": "stream",
          "name": "stdout",
          "text": [
            "Hello I am Noor\n"
          ]
        }
      ]
    }
  ]
}